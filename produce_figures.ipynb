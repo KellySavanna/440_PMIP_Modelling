{
 "cells": [
  {
   "cell_type": "markdown",
   "id": "444f99b3-5a78-4a93-aa7b-9b4b0547e54f",
   "metadata": {},
   "source": [
    "### PMIP4 analysis and producing figures for EOS 440 final project "
   ]
  },
  {
   "cell_type": "markdown",
   "id": "b042c05b-fc4a-4228-94cf-d7fefb982ed5",
   "metadata": {},
   "source": [
    "#### Intake data and filter activity, experiment, variable"
   ]
  },
  {
   "cell_type": "code",
   "execution_count": 1,
   "id": "dac66e48-b184-41e3-bbbc-2119a5b95329",
   "metadata": {},
   "outputs": [],
   "source": [
    "# imports should run with given env\n",
    "\n",
    "import intake\n",
    "import xarray as xr\n",
    "import matplotlib.pyplot as plt\n",
    "import cartopy.crs as ccrs\n",
    "import cartopy.feature as cfeature\n",
    "from pathlib import Path\n",
    "import pandas as pd\n",
    "import numpy as np"
   ]
  },
  {
   "cell_type": "code",
   "execution_count": 2,
   "id": "1012aeef-a673-4f13-9651-1838fbdb667f",
   "metadata": {},
   "outputs": [],
   "source": [
    "# import esm data from server\n",
    "\n",
    "import intake_esm\n",
    "url =\"https://raw.githubusercontent.com/NCAR/intake-esm-datastore/master/catalogs/pangeo-cmip6.json\""
   ]
  },
  {
   "cell_type": "code",
   "execution_count": 3,
   "id": "89529400-6d51-4a65-8bdc-9e652624d116",
   "metadata": {},
   "outputs": [],
   "source": [
    "# intake data as xarray\n",
    "\n",
    "cat = intake.open_esm_datastore(url)"
   ]
  },
  {
   "cell_type": "markdown",
   "id": "cf75731b-a230-4cfb-9a04-916bcd047566",
   "metadata": {},
   "source": [
    "Activity ID for PMIP4 -- experiments used. Lig127k and MidHolocene are taken as the two interglacial datasets, comapred to eachother and the present day Past1000 data."
   ]
  },
  {
   "cell_type": "code",
   "execution_count": 4,
   "id": "93c47f28-ea86-45a4-a1ca-3c85c5a572e9",
   "metadata": {},
   "outputs": [
    {
     "data": {
      "text/plain": [
       "array(['midHolocene', 'lig127k', 'lgm', 'past1000'], dtype=object)"
      ]
     },
     "execution_count": 4,
     "metadata": {},
     "output_type": "execute_result"
    }
   ],
   "source": [
    "# filter to PMIP and show experiments \n",
    "\n",
    "cat_pmip = cat.search(activity_id = 'PMIP')\n",
    "cat_pmip.df['experiment_id'].unique()"
   ]
  },
  {
   "cell_type": "code",
   "execution_count": 5,
   "id": "05500d31-8a1b-4218-9cc9-908a43513d71",
   "metadata": {},
   "outputs": [],
   "source": [
    "# seperate each experiemnt out\n",
    "\n",
    "cat_holo = cat_pmip.search(experiment_id = 'midHolocene', variable_id = 'pr')\n",
    "cat_lig = cat_pmip.search(experiment_id = 'lig127k', variable_id = 'pr')\n",
    "cat_now = cat_pmip.search(experiment_id = 'past1000', variable_id = 'pr')"
   ]
  },
  {
   "cell_type": "code",
   "execution_count": 6,
   "id": "7408fc95-e9f9-4817-9301-2a60cd00606f",
   "metadata": {},
   "outputs": [
    {
     "name": "stdout",
     "output_type": "stream",
     "text": [
      "['r1i1p1f2' 'r1i1p1f3' 'r1i1p1f1']\n",
      "['r1i1p1f1']\n",
      "['r1i1p1f1' 'r1i1p1f2']\n"
     ]
    }
   ],
   "source": [
    "# check the ensemble member numbers for each dataset in order to understand limitations of comparison\n",
    "\n",
    "print(cat_holo.df['member_id'].unique())\n",
    "print(cat_lig.df['member_id'].unique())\n",
    "print(cat_now.df['member_id'].unique())"
   ]
  },
  {
   "cell_type": "markdown",
   "id": "b8f072a0-5747-4da9-89bb-0b1aac7aed80",
   "metadata": {},
   "source": [
    "*Based on the above, we have limited ensemble members for comparison, and need to keep this in mind when discussing results*\n",
    "\n",
    "#### Convert to dictionary dataset to begin plotting"
   ]
  },
  {
   "cell_type": "code",
   "execution_count": 7,
   "id": "60c69653-92c8-45eb-8667-ff7d1f543985",
   "metadata": {},
   "outputs": [
    {
     "name": "stdout",
     "output_type": "stream",
     "text": [
      "\n",
      "--> The keys in the returned dictionary of datasets are constructed as follows:\n",
      "\t'activity_id.institution_id.source_id.experiment_id.table_id.grid_label'\n"
     ]
    },
    {
     "data": {
      "text/html": [
       "\n",
       "<style>\n",
       "    /* Turns off some styling */\n",
       "    progress {\n",
       "        /* gets rid of default border in Firefox and Opera. */\n",
       "        border: none;\n",
       "        /* Needs to be in here for Safari polyfill so background images work as expected. */\n",
       "        background-size: auto;\n",
       "    }\n",
       "    progress:not([value]), progress:not([value])::-webkit-progress-bar {\n",
       "        background: repeating-linear-gradient(45deg, #7e7e7e, #7e7e7e 10px, #5c5c5c 10px, #5c5c5c 20px);\n",
       "    }\n",
       "    .progress-bar-interrupted, .progress-bar-interrupted::-webkit-progress-bar {\n",
       "        background: #F44336;\n",
       "    }\n",
       "</style>\n"
      ],
      "text/plain": [
       "<IPython.core.display.HTML object>"
      ]
     },
     "metadata": {},
     "output_type": "display_data"
    },
    {
     "data": {
      "text/html": [
       "\n",
       "    <div>\n",
       "      <progress value='1' class='' max='1' style='width:300px; height:20px; vertical-align: middle;'></progress>\n",
       "      100.00% [1/1 00:28&lt;00:00]\n",
       "    </div>\n",
       "    "
      ],
      "text/plain": [
       "<IPython.core.display.HTML object>"
      ]
     },
     "metadata": {},
     "output_type": "display_data"
    }
   ],
   "source": [
    "ds_holo = cat_holo.to_dataset_dict(\n",
    "    xarray_open_kwargs={\"consolidated\": True, \"decode_times\": True, \"use_cftime\": True}\n",
    ")"
   ]
  },
  {
   "cell_type": "code",
   "execution_count": 8,
   "id": "65912b61-d0e9-40dd-8f91-b6aca031a8f1",
   "metadata": {},
   "outputs": [
    {
     "name": "stdout",
     "output_type": "stream",
     "text": [
      "\n",
      "--> The keys in the returned dictionary of datasets are constructed as follows:\n",
      "\t'activity_id.institution_id.source_id.experiment_id.table_id.grid_label'\n"
     ]
    },
    {
     "data": {
      "text/html": [
       "\n",
       "<style>\n",
       "    /* Turns off some styling */\n",
       "    progress {\n",
       "        /* gets rid of default border in Firefox and Opera. */\n",
       "        border: none;\n",
       "        /* Needs to be in here for Safari polyfill so background images work as expected. */\n",
       "        background-size: auto;\n",
       "    }\n",
       "    progress:not([value]), progress:not([value])::-webkit-progress-bar {\n",
       "        background: repeating-linear-gradient(45deg, #7e7e7e, #7e7e7e 10px, #5c5c5c 10px, #5c5c5c 20px);\n",
       "    }\n",
       "    .progress-bar-interrupted, .progress-bar-interrupted::-webkit-progress-bar {\n",
       "        background: #F44336;\n",
       "    }\n",
       "</style>\n"
      ],
      "text/plain": [
       "<IPython.core.display.HTML object>"
      ]
     },
     "metadata": {},
     "output_type": "display_data"
    },
    {
     "data": {
      "text/html": [
       "\n",
       "    <div>\n",
       "      <progress value='1' class='' max='1' style='width:300px; height:20px; vertical-align: middle;'></progress>\n",
       "      100.00% [1/1 00:26&lt;00:00]\n",
       "    </div>\n",
       "    "
      ],
      "text/plain": [
       "<IPython.core.display.HTML object>"
      ]
     },
     "metadata": {},
     "output_type": "display_data"
    }
   ],
   "source": [
    "ds_lig = cat_lig.to_dataset_dict(\n",
    "    xarray_open_kwargs={\"consolidated\": True, \"decode_times\": True, \"use_cftime\": True}\n",
    ")"
   ]
  },
  {
   "cell_type": "code",
   "execution_count": 9,
   "id": "b2a4620c-0e57-42dc-b2fb-89ff3f808b74",
   "metadata": {},
   "outputs": [
    {
     "name": "stdout",
     "output_type": "stream",
     "text": [
      "\n",
      "--> The keys in the returned dictionary of datasets are constructed as follows:\n",
      "\t'activity_id.institution_id.source_id.experiment_id.table_id.grid_label'\n"
     ]
    },
    {
     "data": {
      "text/html": [
       "\n",
       "<style>\n",
       "    /* Turns off some styling */\n",
       "    progress {\n",
       "        /* gets rid of default border in Firefox and Opera. */\n",
       "        border: none;\n",
       "        /* Needs to be in here for Safari polyfill so background images work as expected. */\n",
       "        background-size: auto;\n",
       "    }\n",
       "    progress:not([value]), progress:not([value])::-webkit-progress-bar {\n",
       "        background: repeating-linear-gradient(45deg, #7e7e7e, #7e7e7e 10px, #5c5c5c 10px, #5c5c5c 20px);\n",
       "    }\n",
       "    .progress-bar-interrupted, .progress-bar-interrupted::-webkit-progress-bar {\n",
       "        background: #F44336;\n",
       "    }\n",
       "</style>\n"
      ],
      "text/plain": [
       "<IPython.core.display.HTML object>"
      ]
     },
     "metadata": {},
     "output_type": "display_data"
    },
    {
     "data": {
      "text/html": [
       "\n",
       "    <div>\n",
       "      <progress value='2' class='' max='2' style='width:300px; height:20px; vertical-align: middle;'></progress>\n",
       "      100.00% [2/2 00:00&lt;00:00]\n",
       "    </div>\n",
       "    "
      ],
      "text/plain": [
       "<IPython.core.display.HTML object>"
      ]
     },
     "metadata": {},
     "output_type": "display_data"
    }
   ],
   "source": [
    "ds_now = cat_now.to_dataset_dict(\n",
    "    xarray_open_kwargs={\"consolidated\": True, \"decode_times\": True, \"use_cftime\": True}\n",
    ")"
   ]
  },
  {
   "cell_type": "code",
   "execution_count": 10,
   "id": "34f157c2-31f2-4d93-b12d-566ebc5c9087",
   "metadata": {},
   "outputs": [
    {
     "data": {
      "text/plain": [
       "{'PMIP.IPSL.IPSL-CM6A-LR.midHolocene.Amon.gr': <xarray.Dataset>\n",
       " Dimensions:         (lat: 143, lon: 144, time: 6600, dcpp_init_year: 1,\n",
       "                      member_id: 3, axis_nbounds: 2)\n",
       " Coordinates:\n",
       "   * lat             (lat) float32 -90.0 -88.73 -87.46 -86.2 ... 87.46 88.73 90.0\n",
       "   * lon             (lon) float32 0.0 2.5 5.0 7.5 ... 350.0 352.5 355.0 357.5\n",
       "   * time            (time) object 1850-01-16 12:00:00 ... 2399-12-16 12:00:00\n",
       "   * dcpp_init_year  (dcpp_init_year) float64 nan\n",
       "   * member_id       (member_id) object 'r1i1p1f1' 'r1i1p1f2' 'r1i1p1f3'\n",
       "     time_bounds     (time, axis_nbounds) object dask.array<chunksize=(2400, 2), meta=np.ndarray>\n",
       " Dimensions without coordinates: axis_nbounds\n",
       " Data variables:\n",
       "     pr              (member_id, dcpp_init_year, time, lat, lon) float32 dask.array<chunksize=(1, 1, 600, 143, 144), meta=np.ndarray>\n",
       " Attributes: (12/54)\n",
       "     CMIP6_CV_version:                 cv=6.2.3.5-2-g63b123e\n",
       "     Conventions:                      CF-1.7 CMIP-6.2\n",
       "     EXPID:                            midHolocene\n",
       "     activity_id:                      PMIP\n",
       "     branch_method:                    no parent\n",
       "     contact:                          ipsl-cmip6@listes.ipsl.fr\n",
       "     ...                               ...\n",
       "     intake_esm_attrs:table_id:        Amon\n",
       "     intake_esm_attrs:variable_id:     pr\n",
       "     intake_esm_attrs:grid_label:      gr\n",
       "     intake_esm_attrs:version:         20180926\n",
       "     intake_esm_attrs:_data_format_:   zarr\n",
       "     intake_esm_dataset_key:           PMIP.IPSL.IPSL-CM6A-LR.midHolocene.Amon.gr}"
      ]
     },
     "execution_count": 10,
     "metadata": {},
     "output_type": "execute_result"
    }
   ],
   "source": [
    "# option to un-comment (one at a time) and inspect parameters:\n",
    "\n",
    "ds_holo\n",
    "#ds_lig\n",
    "#ds_now"
   ]
  },
  {
   "cell_type": "code",
   "execution_count": null,
   "id": "cf8f0e14-6c0e-4123-b6ac-2b3954d126b7",
   "metadata": {},
   "outputs": [],
   "source": []
  }
 ],
 "metadata": {
  "kernelspec": {
   "display_name": "Python 3 (ipykernel)",
   "language": "python",
   "name": "python3"
  },
  "language_info": {
   "codemirror_mode": {
    "name": "ipython",
    "version": 3
   },
   "file_extension": ".py",
   "mimetype": "text/x-python",
   "name": "python",
   "nbconvert_exporter": "python",
   "pygments_lexer": "ipython3",
   "version": "3.10.16"
  }
 },
 "nbformat": 4,
 "nbformat_minor": 5
}
